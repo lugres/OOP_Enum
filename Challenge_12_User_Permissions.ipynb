{
 "cells": [
  {
   "attachments": {},
   "cell_type": "markdown",
   "metadata": {},
   "source": [
    "Pay attention to the Andy's solution:\n",
    "1) _validate_permission method is simple, exception is raised inside it.\n",
    "2) role assignment and validation in _infer_permission is simple and straightforward.\n",
    "\n",
    "As a result, there're no decorators and decorator properties. "
   ]
  },
  {
   "cell_type": "code",
   "execution_count": 47,
   "metadata": {},
   "outputs": [],
   "source": [
    "from enum import Flag, auto"
   ]
  },
  {
   "cell_type": "code",
   "execution_count": 48,
   "metadata": {},
   "outputs": [],
   "source": [
    "class Permission(Flag):\n",
    "    READ = auto()\n",
    "    WRITE = auto()\n",
    "    EXEC = auto()"
   ]
  },
  {
   "cell_type": "code",
   "execution_count": 3,
   "metadata": {},
   "outputs": [
    {
     "data": {
      "text/plain": [
       "{1: <Permission.READ: 1>, 2: <Permission.WRITE: 2>, 4: <Permission.EXEC: 4>}"
      ]
     },
     "execution_count": 3,
     "metadata": {},
     "output_type": "execute_result"
    }
   ],
   "source": [
    "Permission._value2member_map_"
   ]
  },
  {
   "cell_type": "code",
   "execution_count": 49,
   "metadata": {},
   "outputs": [
    {
     "data": {
      "text/plain": [
       "7"
      ]
     },
     "execution_count": 49,
     "metadata": {},
     "output_type": "execute_result"
    }
   ],
   "source": [
    "sum([permission.value for permission in Permission])"
   ]
  },
  {
   "cell_type": "code",
   "execution_count": 10,
   "metadata": {},
   "outputs": [
    {
     "data": {
      "text/plain": [
       "<Permission.EXEC|WRITE|READ: 7>"
      ]
     },
     "execution_count": 10,
     "metadata": {},
     "output_type": "execute_result"
    }
   ],
   "source": [
    "Permission(7)"
   ]
  },
  {
   "cell_type": "code",
   "execution_count": 127,
   "metadata": {},
   "outputs": [],
   "source": [
    "import subprocess"
   ]
  },
  {
   "cell_type": "code",
   "execution_count": 176,
   "metadata": {},
   "outputs": [],
   "source": [
    "class ValidatePermission:\n",
    "    USER_GROUP = {\n",
    "        \"admin\": Permission.READ | Permission.WRITE | Permission.EXEC,\n",
    "        \"user\": Permission.READ,\n",
    "        \"manager\": Permission.READ | Permission.WRITE,\n",
    "        \"support\": Permission.EXEC\n",
    "    }\n",
    "\n",
    "    def __set_name__(self, owner, name):\n",
    "        self.name = name\n",
    "\n",
    "    def __get__(self, instance, owner):\n",
    "        if instance is None:\n",
    "            return self\n",
    "\n",
    "        return instance.__dict__.get(f\"{type(self).__name__}_{self.name}\")\n",
    "\n",
    "    def __set__(self, instance, value):\n",
    "        if not type(value) == int and not type(value) == str:\n",
    "            raise TypeError(\"User permission must be an integer or a string-based user role\")\n",
    "\n",
    "        if type(value) == str and not value in self.USER_GROUP.keys():\n",
    "            raise ValueError(f\"User role must be one of the {list(self.USER_GROUP.keys())}\")\n",
    "\n",
    "        if type(value) == int:\n",
    "            if value > sum([permission.value for permission in Permission]) or value < 1:\n",
    "                instance.__dict__[f\"{type(self).__name__}_{self.name}\"] = Permission.READ\n",
    "            else:\n",
    "                instance.__dict__[f\"{type(self).__name__}_{self.name}\"] = Permission(value)\n",
    "\n",
    "        if type(value) == str:\n",
    "            instance.__dict__[f\"{type(self).__name__}_{self.name}\"] = self.USER_GROUP[value]\n",
    "\n",
    "class BaseUser:\n",
    "        # Better to refactor. Raise exception inside validation,and just call it from other methods\n",
    "    def _validate_user_permission(self, required_permission):\n",
    "        return required_permission in self.permissions\n",
    "\n",
    "    def read(self, file):\n",
    "            # Better to refactor, it's a redundant code\n",
    "        if not self._validate_user_permission(Permission.READ):\n",
    "            raise PermissionError(f\"User doesn't have permission {Permission.READ.name} permission\")\n",
    "        \n",
    "        try:\n",
    "            with open(file) as script_file:\n",
    "                contents = script_file.read()\n",
    "        except FileNotFoundError:\n",
    "            print(f\"There's no file named {file}\")\n",
    "        else:\n",
    "            print(contents)\n",
    "\n",
    "    def write(self, file, content):\n",
    "        if not self._validate_user_permission(Permission.WRITE):\n",
    "            raise PermissionError(f\"User doesn't have {Permission.WRITE.name} permission\")\n",
    "        \n",
    "        with open(file, \"w\") as script_file:\n",
    "            script_file.write(content)\n",
    "        print(f\"Wrote '{content}' to {file}.\")\n",
    "\n",
    "    def execute(self, file):\n",
    "        if not self._validate_user_permission(Permission.EXEC):\n",
    "            raise PermissionError(f\"User doesn't have {Permission.EXEC.name} permission\")\n",
    "        \n",
    "        subprocess.call([\"python\", file])\n",
    "\n",
    "class User(BaseUser):\n",
    "\n",
    "    permissions = ValidatePermission()\n",
    "\n",
    "    def __init__(self, name, user_role) -> None:\n",
    "        self.name = name\n",
    "        self.permissions = user_role\n",
    "        "
   ]
  },
  {
   "cell_type": "code",
   "execution_count": 177,
   "metadata": {},
   "outputs": [],
   "source": [
    "u1 = User(name=\"Aaron\", user_role=\"user\")"
   ]
  },
  {
   "cell_type": "code",
   "execution_count": 178,
   "metadata": {},
   "outputs": [
    {
     "data": {
      "text/plain": [
       "<Permission.READ: 1>"
      ]
     },
     "execution_count": 178,
     "metadata": {},
     "output_type": "execute_result"
    }
   ],
   "source": [
    "u1.permissions"
   ]
  },
  {
   "cell_type": "code",
   "execution_count": 179,
   "metadata": {},
   "outputs": [],
   "source": [
    "u2 = User(\"Andrew\", \"admin\")"
   ]
  },
  {
   "cell_type": "code",
   "execution_count": 180,
   "metadata": {},
   "outputs": [
    {
     "data": {
      "text/plain": [
       "<Permission.EXEC|WRITE|READ: 7>"
      ]
     },
     "execution_count": 180,
     "metadata": {},
     "output_type": "execute_result"
    }
   ],
   "source": [
    "u2.permissions"
   ]
  },
  {
   "cell_type": "code",
   "execution_count": 193,
   "metadata": {},
   "outputs": [
    {
     "name": "stdout",
     "output_type": "stream",
     "text": [
      "Wrote 'for i in range(10): print(i)' to script.py.\n"
     ]
    }
   ],
   "source": [
    "u2.write(file=\"script.py\", content=\"for i in range(10): print(i)\")"
   ]
  },
  {
   "cell_type": "code",
   "execution_count": 194,
   "metadata": {},
   "outputs": [
    {
     "name": "stdout",
     "output_type": "stream",
     "text": [
      "for i in range(10): print(i)\n"
     ]
    }
   ],
   "source": [
    "u1.read('script.py')"
   ]
  },
  {
   "cell_type": "code",
   "execution_count": 195,
   "metadata": {},
   "outputs": [
    {
     "ename": "PermissionError",
     "evalue": "User doesn't have EXEC permission",
     "output_type": "error",
     "traceback": [
      "\u001b[0;31m---------------------------------------------------------------------------\u001b[0m",
      "\u001b[0;31mPermissionError\u001b[0m                           Traceback (most recent call last)",
      "Cell \u001b[0;32mIn[195], line 1\u001b[0m\n\u001b[0;32m----> 1\u001b[0m u1\u001b[39m.\u001b[39;49mexecute(\u001b[39m'\u001b[39;49m\u001b[39mscript.py\u001b[39;49m\u001b[39m'\u001b[39;49m)\n",
      "Cell \u001b[0;32mIn[176], line 60\u001b[0m, in \u001b[0;36mBaseUser.execute\u001b[0;34m(self, file)\u001b[0m\n\u001b[1;32m     58\u001b[0m \u001b[39mdef\u001b[39;00m \u001b[39mexecute\u001b[39m(\u001b[39mself\u001b[39m, file):\n\u001b[1;32m     59\u001b[0m     \u001b[39mif\u001b[39;00m \u001b[39mnot\u001b[39;00m \u001b[39mself\u001b[39m\u001b[39m.\u001b[39m_validate_user_permission(Permission\u001b[39m.\u001b[39mEXEC):\n\u001b[0;32m---> 60\u001b[0m         \u001b[39mraise\u001b[39;00m \u001b[39mPermissionError\u001b[39;00m(\u001b[39mf\u001b[39m\u001b[39m\"\u001b[39m\u001b[39mUser doesn\u001b[39m\u001b[39m'\u001b[39m\u001b[39mt have \u001b[39m\u001b[39m{\u001b[39;00mPermission\u001b[39m.\u001b[39mEXEC\u001b[39m.\u001b[39mname\u001b[39m}\u001b[39;00m\u001b[39m permission\u001b[39m\u001b[39m\"\u001b[39m)\n\u001b[1;32m     62\u001b[0m     subprocess\u001b[39m.\u001b[39mcall([\u001b[39m\"\u001b[39m\u001b[39mpython\u001b[39m\u001b[39m\"\u001b[39m, file])\n",
      "\u001b[0;31mPermissionError\u001b[0m: User doesn't have EXEC permission"
     ]
    }
   ],
   "source": [
    "u1.execute('script.py')"
   ]
  },
  {
   "cell_type": "code",
   "execution_count": 196,
   "metadata": {},
   "outputs": [],
   "source": [
    "u3 = User(\"Joseph\", 6)"
   ]
  },
  {
   "cell_type": "code",
   "execution_count": 197,
   "metadata": {},
   "outputs": [
    {
     "data": {
      "text/plain": [
       "<Permission.EXEC|WRITE: 6>"
      ]
     },
     "execution_count": 197,
     "metadata": {},
     "output_type": "execute_result"
    }
   ],
   "source": [
    "u3.permissions"
   ]
  },
  {
   "cell_type": "code",
   "execution_count": 198,
   "metadata": {},
   "outputs": [],
   "source": [
    "u3 = User(\"Joseph\", 1236)"
   ]
  },
  {
   "cell_type": "code",
   "execution_count": 199,
   "metadata": {},
   "outputs": [
    {
     "data": {
      "text/plain": [
       "<Permission.READ: 1>"
      ]
     },
     "execution_count": 199,
     "metadata": {},
     "output_type": "execute_result"
    }
   ],
   "source": [
    "u3.permissions"
   ]
  },
  {
   "cell_type": "code",
   "execution_count": 200,
   "metadata": {},
   "outputs": [],
   "source": [
    "u4 = User(\"Anna\", \"support\")"
   ]
  },
  {
   "cell_type": "code",
   "execution_count": 201,
   "metadata": {},
   "outputs": [
    {
     "name": "stdout",
     "output_type": "stream",
     "text": [
      "0\n",
      "1\n",
      "2\n",
      "3\n",
      "4\n",
      "5\n",
      "6\n",
      "7\n",
      "8\n",
      "9\n"
     ]
    }
   ],
   "source": [
    "u4.execute(\"script.py\")"
   ]
  },
  {
   "cell_type": "code",
   "execution_count": null,
   "metadata": {},
   "outputs": [],
   "source": []
  },
  {
   "cell_type": "code",
   "execution_count": 26,
   "metadata": {},
   "outputs": [],
   "source": [
    "# Anya's advise: use decorators for checking permissions\n",
    "# I decided to implement simplest solution first - just call internal _validate_user_permission,\n",
    "# check if it returns True - go ahead with read/write/execute method, otherwise raise PermissionError\n",
    "# Afterwards I can refactor as follows:\n",
    "# - get rid of descriptor, create decorator property\n",
    "# - implement decorator for _validate_user_permission"
   ]
  },
  {
   "cell_type": "code",
   "execution_count": 271,
   "metadata": {},
   "outputs": [],
   "source": [
    "\n",
    "class BaseUser:\n",
    "\n",
    "    USER_GROUP = {\n",
    "        \"admin\": Permission.READ | Permission.WRITE | Permission.EXEC,\n",
    "        \"user\": Permission.READ,\n",
    "        \"manager\": Permission.READ | Permission.WRITE,\n",
    "        \"support\": Permission.EXEC\n",
    "    }\n",
    "\n",
    "    @property\n",
    "    def permissions(self):\n",
    "        return self._permissions\n",
    "    \n",
    "    @permissions.setter\n",
    "    def permissions(self, value):\n",
    "        if not type(value) == int and not type(value) == str:\n",
    "            raise TypeError(\"User permission must be an integer or a string-based user role\")\n",
    "\n",
    "        if type(value) == str and not value in self.USER_GROUP.keys():\n",
    "            raise ValueError(f\"User role must be one of the {list(self.USER_GROUP.keys())}\")\n",
    "\n",
    "        if type(value) == int:\n",
    "            if value > sum([permission.value for permission in Permission]) or value < 1:\n",
    "                self._permissions = Permission.READ\n",
    "            else:\n",
    "                self._permissions = Permission(value)\n",
    "\n",
    "        if type(value) == str:\n",
    "            self._permissions = self.USER_GROUP[value]\n",
    "\n",
    "    def _validate_user_permission(required_permission):\n",
    "        def decorator(func):\n",
    "            def wrapper(self, *args, **kwargs):\n",
    "                # print(self)\n",
    "                # print(args, kwargs)\n",
    "                if not required_permission in self.permissions:\n",
    "                    raise PermissionError(f\"User doesn't have permission {required_permission.name} permission\")\n",
    "                func(self, *args, **kwargs)\n",
    "            return wrapper\n",
    "        return decorator\n",
    "\n",
    "    @_validate_user_permission(required_permission=Permission.READ)\n",
    "    def read(self, file):  \n",
    "        try:\n",
    "            with open(file) as script_file:\n",
    "                contents = script_file.read()\n",
    "        except FileNotFoundError:\n",
    "            print(f\"There's no file named {file}\")\n",
    "        else:\n",
    "            print(contents)\n",
    "\n",
    "    @_validate_user_permission(required_permission=Permission.WRITE)\n",
    "    def write(self, file, content):\n",
    "        with open(file, \"w\") as script_file:\n",
    "            script_file.write(content)\n",
    "        print(f\"Wrote '{content}' to {file}.\")\n",
    "\n",
    "    @_validate_user_permission(required_permission=Permission.EXEC)\n",
    "    def execute(self, file):\n",
    "        subprocess.call([\"python\", file])\n",
    "\n",
    "    def __repr__(self) -> str:\n",
    "        return f\"{type(self).__name__}(name='{self.name}', user_role='{self.user_role}')\"\n",
    "\n",
    "class User(BaseUser):\n",
    "\n",
    "    def __init__(self, name, user_role) -> None:\n",
    "        self.name = name\n",
    "        self.user_role = user_role\n",
    "        self._permissions = None\n",
    "        self.permissions = user_role\n"
   ]
  },
  {
   "cell_type": "code",
   "execution_count": 272,
   "metadata": {},
   "outputs": [],
   "source": [
    "u1 = User(name=\"Aaron\", user_role=\"user\")"
   ]
  },
  {
   "cell_type": "code",
   "execution_count": 273,
   "metadata": {},
   "outputs": [
    {
     "data": {
      "text/plain": [
       "User(name='Aaron', user_role='user')"
      ]
     },
     "execution_count": 273,
     "metadata": {},
     "output_type": "execute_result"
    }
   ],
   "source": [
    "u1"
   ]
  },
  {
   "cell_type": "code",
   "execution_count": 258,
   "metadata": {},
   "outputs": [
    {
     "data": {
      "text/plain": [
       "<Permission.READ: 1>"
      ]
     },
     "execution_count": 258,
     "metadata": {},
     "output_type": "execute_result"
    }
   ],
   "source": [
    "u1.permissions"
   ]
  },
  {
   "cell_type": "code",
   "execution_count": 259,
   "metadata": {},
   "outputs": [],
   "source": [
    "u2 = User(\"Andrew\", \"admin\")"
   ]
  },
  {
   "cell_type": "code",
   "execution_count": 260,
   "metadata": {},
   "outputs": [
    {
     "data": {
      "text/plain": [
       "<Permission.EXEC|WRITE|READ: 7>"
      ]
     },
     "execution_count": 260,
     "metadata": {},
     "output_type": "execute_result"
    }
   ],
   "source": [
    "u2.permissions"
   ]
  },
  {
   "cell_type": "code",
   "execution_count": 261,
   "metadata": {},
   "outputs": [
    {
     "name": "stdout",
     "output_type": "stream",
     "text": [
      "Wrote 'for i in range(10): print(i)' to script.py.\n"
     ]
    }
   ],
   "source": [
    "u2.write(file=\"script.py\", content=\"for i in range(10): print(i)\")"
   ]
  },
  {
   "cell_type": "code",
   "execution_count": 262,
   "metadata": {},
   "outputs": [
    {
     "name": "stdout",
     "output_type": "stream",
     "text": [
      "for i in range(10): print(i)\n"
     ]
    }
   ],
   "source": [
    "u1.read('script.py')"
   ]
  },
  {
   "cell_type": "code",
   "execution_count": 263,
   "metadata": {},
   "outputs": [],
   "source": [
    "u4 = User(\"Anna\", \"support\")"
   ]
  },
  {
   "cell_type": "code",
   "execution_count": 264,
   "metadata": {},
   "outputs": [
    {
     "name": "stdout",
     "output_type": "stream",
     "text": [
      "0\n",
      "1\n",
      "2\n",
      "3\n",
      "4\n",
      "5\n",
      "6\n",
      "7\n",
      "8\n",
      "9\n"
     ]
    }
   ],
   "source": [
    "u4.execute(\"script.py\")"
   ]
  },
  {
   "cell_type": "code",
   "execution_count": 274,
   "metadata": {},
   "outputs": [],
   "source": [
    "# Just to check Andy's calls to Permission flag"
   ]
  },
  {
   "cell_type": "code",
   "execution_count": 265,
   "metadata": {},
   "outputs": [
    {
     "data": {
      "text/plain": [
       "<Permission.EXEC|WRITE|READ: 7>"
      ]
     },
     "execution_count": 265,
     "metadata": {},
     "output_type": "execute_result"
    }
   ],
   "source": [
    "Permission(BaseUser.USER_GROUP.get(\"admin\"))"
   ]
  },
  {
   "cell_type": "code",
   "execution_count": 266,
   "metadata": {},
   "outputs": [
    {
     "data": {
      "text/plain": [
       "<Permission.EXEC|WRITE|READ: 7>"
      ]
     },
     "execution_count": 266,
     "metadata": {},
     "output_type": "execute_result"
    }
   ],
   "source": [
    "BaseUser.USER_GROUP.get(\"admin\")"
   ]
  },
  {
   "cell_type": "code",
   "execution_count": 275,
   "metadata": {},
   "outputs": [
    {
     "data": {
      "text/plain": [
       "<enum 'Permission'>"
      ]
     },
     "execution_count": 275,
     "metadata": {},
     "output_type": "execute_result"
    }
   ],
   "source": [
    "type(BaseUser.USER_GROUP.get(\"admin\"))"
   ]
  },
  {
   "cell_type": "code",
   "execution_count": 267,
   "metadata": {},
   "outputs": [
    {
     "data": {
      "text/plain": [
       "<Permission.EXEC|WRITE|READ: 7>"
      ]
     },
     "execution_count": 267,
     "metadata": {},
     "output_type": "execute_result"
    }
   ],
   "source": [
    "Permission(Permission.READ | Permission.WRITE | Permission.EXEC)"
   ]
  }
 ],
 "metadata": {
  "kernelspec": {
   "display_name": "Python 3",
   "language": "python",
   "name": "python3"
  },
  "language_info": {
   "codemirror_mode": {
    "name": "ipython",
    "version": 3
   },
   "file_extension": ".py",
   "mimetype": "text/x-python",
   "name": "python",
   "nbconvert_exporter": "python",
   "pygments_lexer": "ipython3",
   "version": "3.10.4"
  },
  "orig_nbformat": 4,
  "vscode": {
   "interpreter": {
    "hash": "aee8b7b246df8f9039afb4144a1f6fd8d2ca17a180786b69acc140d282b71a49"
   }
  }
 },
 "nbformat": 4,
 "nbformat_minor": 2
}
